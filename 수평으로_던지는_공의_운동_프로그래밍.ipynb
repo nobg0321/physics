{
  "nbformat": 4,
  "nbformat_minor": 0,
  "metadata": {
    "colab": {
      "provenance": [],
      "authorship_tag": "ABX9TyPcfldV2LvS3HiTGHzboD/a",
      "include_colab_link": true
    },
    "kernelspec": {
      "name": "python3",
      "display_name": "Python 3"
    },
    "language_info": {
      "name": "python"
    }
  },
  "cells": [
    {
      "cell_type": "markdown",
      "metadata": {
        "id": "view-in-github",
        "colab_type": "text"
      },
      "source": [
        "<a href=\"https://colab.research.google.com/github/nobg0321/physics/blob/20250410/%EC%88%98%ED%8F%89%EC%9C%BC%EB%A1%9C_%EB%8D%98%EC%A7%80%EB%8A%94_%EA%B3%B5%EC%9D%98_%EC%9A%B4%EB%8F%99_%ED%94%84%EB%A1%9C%EA%B7%B8%EB%9E%98%EB%B0%8D.ipynb\" target=\"_parent\"><img src=\"https://colab.research.google.com/assets/colab-badge.svg\" alt=\"Open In Colab\"/></a>"
      ]
    },
    {
      "cell_type": "code",
      "execution_count": 1,
      "metadata": {
        "colab": {
          "base_uri": "https://localhost:8080/"
        },
        "id": "bvy30cztV4n5",
        "outputId": "55043039-5770-4190-813d-eee0528f9c75"
      },
      "outputs": [
        {
          "output_type": "stream",
          "name": "stdout",
          "text": [
            "초기 속도 (m/s)를 입력하세요.: 30\n",
            "발사각 (도)를 입력하세요.: 30\n",
            "\n",
            "==== 계산 결과 ====\n",
            "1) 초기 속도 성분: Vx = 25.98 m/s, Vy = 15.00 m/s\n",
            "2) 최고점 높이: 11.48 m\n",
            "3) 최고점 도달 시간: 1.53 s\n",
            "4) 수평 이동 거리: 79.53 m\n",
            "5) 지면 도달 시 속도 성분:\n",
            "Vx = 25.98 m/s\n",
            "Vy = -15.00 m/s\n",
            "V = 30.00 m/s\n"
          ]
        }
      ],
      "source": [
        "import math\n",
        "\n",
        "G = 9.8\n",
        "PI = math.pi\n",
        "\n",
        "\n",
        "v0 = float(input(\"초기 속도 (m/s)를 입력하세요.: \"))\n",
        "angle_deg = float(input(\"발사각 (도)를 입력하세요.: \"))\n",
        "\n",
        "\n",
        "angle_rad = angle_deg * PI / 180.0\n",
        "\n",
        "\n",
        "vx = v0 * math.cos(angle_rad)\n",
        "vy = v0 * math.sin(angle_rad)\n",
        "\n",
        "\n",
        "h_max = (vy ** 2) / (2 * G)\n",
        "t_peak = vy / G\n",
        "t_total = 2 * t_peak\n",
        "\n",
        "\n",
        "range_ = vx * t_total\n",
        "\n",
        "\n",
        "vx_final = vx\n",
        "vy_final = -vy\n",
        "v_final = math.sqrt(vx_final ** 2 + vy_final ** 2)\n",
        "\n",
        "\n",
        "print(\"\\n==== 계산 결과 ====\")\n",
        "print(f\"1) 초기 속도 성분: Vx = {vx:.2f} m/s, Vy = {vy:.2f} m/s\")\n",
        "print(f\"2) 최고점 높이: {h_max:.2f} m\")\n",
        "print(f\"3) 최고점 도달 시간: {t_peak:.2f} s\")\n",
        "print(f\"4) 수평 이동 거리: {range_:.2f} m\")\n",
        "print(\"5) 지면 도달 시 속도 성분:\")\n",
        "print(f\"Vx = {vx_final:.2f} m/s\")\n",
        "print(f\"Vy = {vy_final:.2f} m/s\")\n",
        "print(f\"V = {v_final:.2f} m/s\")\n"
      ]
    }
  ]
}
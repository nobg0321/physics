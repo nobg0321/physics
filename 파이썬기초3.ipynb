{
  "nbformat": 4,
  "nbformat_minor": 0,
  "metadata": {
    "colab": {
      "provenance": [],
      "authorship_tag": "ABX9TyOBoNAcW0VE6r6dbIfuU8Ii",
      "include_colab_link": true
    },
    "kernelspec": {
      "name": "python3",
      "display_name": "Python 3"
    },
    "language_info": {
      "name": "python"
    }
  },
  "cells": [
    {
      "cell_type": "markdown",
      "metadata": {
        "id": "view-in-github",
        "colab_type": "text"
      },
      "source": [
        "<a href=\"https://colab.research.google.com/github/nobg0321/physics/blob/20250319/%ED%8C%8C%EC%9D%B4%EC%8D%AC%EA%B8%B0%EC%B4%883.ipynb\" target=\"_parent\"><img src=\"https://colab.research.google.com/assets/colab-badge.svg\" alt=\"Open In Colab\"/></a>"
      ]
    },
    {
      "cell_type": "code",
      "source": [
        "a = 4\n",
        "b = 3\n",
        "\n",
        "c = 1\n",
        "d = 2\n",
        "print(a/b)\n",
        "print(c/d)\n",
        "\n",
        "\n",
        "e = 7\n",
        "f = 3\n",
        "print(e//f)\n",
        "print(e%f)\n",
        "\n",
        "print(e**f)\n"
      ],
      "metadata": {
        "colab": {
          "base_uri": "https://localhost:8080/"
        },
        "id": "QLsIdI9nmpYo",
        "outputId": "f4983db5-1c0f-425c-c132-0ef8a6d9d5f3"
      },
      "execution_count": 17,
      "outputs": [
        {
          "output_type": "stream",
          "name": "stdout",
          "text": [
            "1.3333333333333333\n",
            "0.5\n",
            "2\n",
            "1\n",
            "343\n"
          ]
        }
      ]
    },
    {
      "cell_type": "code",
      "source": [
        "quotient, remainder = divmod(5,2)\n",
        "print(quotient, remainder)"
      ],
      "metadata": {
        "colab": {
          "base_uri": "https://localhost:8080/"
        },
        "id": "jWPpQdrnnVRS",
        "outputId": "3b12f465-d899-4a5f-f444-148c4dee4388"
      },
      "execution_count": 18,
      "outputs": [
        {
          "output_type": "stream",
          "name": "stdout",
          "text": [
            "2 1\n"
          ]
        }
      ]
    },
    {
      "cell_type": "code",
      "source": [
        "i = 3\n",
        "i +=3\n",
        "print(i)\n",
        "i -=3\n",
        "print(i)\n",
        "i *=2\n",
        "print(i)\n",
        "i /=2\n",
        "print(int(i) )\n",
        "i = 3\n",
        "i %=2\n",
        "print(i)\n"
      ],
      "metadata": {
        "colab": {
          "base_uri": "https://localhost:8080/"
        },
        "id": "F-9199fQoM81",
        "outputId": "96fdec74-6ee2-4cd1-bfb0-0442d83ea183"
      },
      "execution_count": 24,
      "outputs": [
        {
          "output_type": "stream",
          "name": "stdout",
          "text": [
            "6\n",
            "3\n",
            "6\n",
            "3\n",
            "1\n"
          ]
        }
      ]
    },
    {
      "cell_type": "code",
      "source": [
        "a=10\n",
        "b=3\n",
        "print(\"10 == 3 =>\", a == b)\n",
        "print(\"10 != 3 =>\", a != b)\n",
        "print(\"10 > 3 =>\", a > b)\n",
        "print(\"10 >= 3 =>\", a >= b)\n",
        "print(\"10 < 3 =>\", a < b)\n",
        "print(\"10 <= 3 =>\", a <= b)\n",
        "print()"
      ],
      "metadata": {
        "colab": {
          "base_uri": "https://localhost:8080/"
        },
        "id": "1z-cDvVgovx9",
        "outputId": "6db3828d-2321-48cd-ea36-b65314be6610"
      },
      "execution_count": 26,
      "outputs": [
        {
          "output_type": "stream",
          "name": "stdout",
          "text": [
            "10 == 3 => False\n",
            "10 != 3 => True\n",
            "10 > 3 => True\n",
            "10 >= 3 => True\n",
            "10 < 3 => False\n",
            "10 <= 3 => False\n",
            "\n"
          ]
        }
      ]
    },
    {
      "cell_type": "code",
      "source": [
        "a = 12\n",
        "b = 8\n",
        "print(bin(a))\n",
        "print(bin(b))\n",
        "print(bin(a&b))\n",
        "print('')\n",
        "print(a&b)\n",
        "\n",
        "print('')\n",
        "print(bin(a))\n",
        "print(bin(b))\n",
        "print(bin(a|b))\n",
        "print('')\n",
        "print(a|b)\n",
        "\n",
        "print('')\n",
        "print(bin(a))\n",
        "print(bin(b))\n",
        "print(bin(a^b))\n",
        "print('')\n",
        "print(a^b)\n",
        "\n",
        "print('')\n",
        "print(bin(a))\n",
        "print(bin(~a))\n"
      ],
      "metadata": {
        "colab": {
          "base_uri": "https://localhost:8080/"
        },
        "id": "jrnXbsVOq1ND",
        "outputId": "797fbaa1-93b3-4cbf-f620-b70deb2ebae6"
      },
      "execution_count": 35,
      "outputs": [
        {
          "output_type": "stream",
          "name": "stdout",
          "text": [
            "0b1100\n",
            "0b1000\n",
            "0b1000\n",
            "\n",
            "8\n",
            "\n",
            "0b1100\n",
            "0b1000\n",
            "0b1100\n",
            "\n",
            "12\n",
            "\n",
            "0b1100\n",
            "0b1000\n",
            "0b100\n",
            "\n",
            "4\n",
            "\n",
            "0b1100\n",
            "-0b1101\n"
          ]
        }
      ]
    }
  ]
}
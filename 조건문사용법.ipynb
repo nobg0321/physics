{
  "nbformat": 4,
  "nbformat_minor": 0,
  "metadata": {
    "colab": {
      "provenance": [],
      "authorship_tag": "ABX9TyOoHcsOE/SZdiRsOvMN+xPI",
      "include_colab_link": true
    },
    "kernelspec": {
      "name": "python3",
      "display_name": "Python 3"
    },
    "language_info": {
      "name": "python"
    }
  },
  "cells": [
    {
      "cell_type": "markdown",
      "metadata": {
        "id": "view-in-github",
        "colab_type": "text"
      },
      "source": [
        "<a href=\"https://colab.research.google.com/github/nobg0321/physics/blob/20250329/%EC%A1%B0%EA%B1%B4%EB%AC%B8%EC%82%AC%EC%9A%A9%EB%B2%95.ipynb\" target=\"_parent\"><img src=\"https://colab.research.google.com/assets/colab-badge.svg\" alt=\"Open In Colab\"/></a>"
      ]
    },
    {
      "cell_type": "code",
      "execution_count": 1,
      "metadata": {
        "colab": {
          "base_uri": "https://localhost:8080/"
        },
        "id": "MSMOv5qrPssm",
        "outputId": "bdce5f66-2658-452c-9ad8-2f118073787e"
      },
      "outputs": [
        {
          "output_type": "stream",
          "name": "stdout",
          "text": [
            "이름이 다릅니다.\n"
          ]
        }
      ],
      "source": [
        "name = \"tset\"\n",
        "if name == \"test\":\n",
        "  print(\"이름이 맞습니다.\")\n",
        "else:\n",
        "  print(\"이름이 다릅니다.\")"
      ]
    },
    {
      "cell_type": "code",
      "source": [
        "#if elif else 예제\n",
        "pocket=1000\n",
        "if pocket == 1000:\n",
        "  print(\"복권 구매\")\n",
        "elif pocket == 500:\n",
        "  print(\"껌 구매\")\n",
        "else:\n",
        "  print(\"집\")"
      ],
      "metadata": {
        "colab": {
          "base_uri": "https://localhost:8080/"
        },
        "id": "UQwIWAHdQojS",
        "outputId": "6e06b2d8-fa96-4570-f787-271f6bce0eaf"
      },
      "execution_count": 2,
      "outputs": [
        {
          "output_type": "stream",
          "name": "stdout",
          "text": [
            "복권 구매\n"
          ]
        }
      ]
    },
    {
      "cell_type": "code",
      "source": [
        "a=\"사과\"\n",
        "b=\"바나나\"\n",
        "c=\"치즈\"\n",
        "if a == \"사과\" or b == \"안바나나\": #true\n",
        "  print(\"사과 이거나 바나나 입니다.\")\n",
        "if a== \"사과\" and b == \"바나나\": #ture\n",
        "  print(\"사과 이고 바나나 입니다.\")\n",
        "if not a == \"사과\": #a가 사과인데 not 이므로 false\n",
        "  print(\"사과가 아니어야 여기 들어옵니다.\")"
      ],
      "metadata": {
        "colab": {
          "base_uri": "https://localhost:8080/"
        },
        "id": "wjm1xHEUQsXt",
        "outputId": "b3bea16e-17b8-4394-8d90-e9501f9e4eca"
      },
      "execution_count": 3,
      "outputs": [
        {
          "output_type": "stream",
          "name": "stdout",
          "text": [
            "사과 이거나 바나나 입니다.\n",
            "사과 이고 바나나 입니다.\n"
          ]
        }
      ]
    },
    {
      "cell_type": "code",
      "source": [
        "a=[1,2,3,4,5,6,7,8]\n",
        "if 1 in a:\n",
        "  print(\"a 리스트에 1이 포함되어있습니다.\")\n",
        "elif 10 in a:\n",
        "  print(\"a리스트에 10이 포함되어 있습니다.\")"
      ],
      "metadata": {
        "colab": {
          "base_uri": "https://localhost:8080/"
        },
        "id": "h8-UM8CpQs0m",
        "outputId": "400600ee-eee9-49d3-d49c-4e6934fdbfbf"
      },
      "execution_count": 4,
      "outputs": [
        {
          "output_type": "stream",
          "name": "stdout",
          "text": [
            "a 리스트에 1이 포함되어있습니다.\n"
          ]
        }
      ]
    }
  ]
}
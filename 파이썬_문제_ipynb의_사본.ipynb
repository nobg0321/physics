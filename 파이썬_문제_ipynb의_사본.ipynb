{
  "nbformat": 4,
  "nbformat_minor": 0,
  "metadata": {
    "colab": {
      "provenance": [],
      "include_colab_link": true
    },
    "kernelspec": {
      "name": "python3",
      "display_name": "Python 3"
    },
    "language_info": {
      "name": "python"
    }
  },
  "cells": [
    {
      "cell_type": "markdown",
      "metadata": {
        "id": "view-in-github",
        "colab_type": "text"
      },
      "source": [
        "<a href=\"https://colab.research.google.com/github/nobg0321/physics/blob/20250403/%ED%8C%8C%EC%9D%B4%EC%8D%AC_%EB%AC%B8%EC%A0%9C_ipynb%EC%9D%98_%EC%82%AC%EB%B3%B8.ipynb\" target=\"_parent\"><img src=\"https://colab.research.google.com/assets/colab-badge.svg\" alt=\"Open In Colab\"/></a>"
      ]
    },
    {
      "cell_type": "code",
      "execution_count": 2,
      "metadata": {
        "id": "FtCjn7WK7VvX",
        "colab": {
          "base_uri": "https://localhost:8080/"
        },
        "outputId": "2d66cc2f-df64-478c-d460-429957cfe71a"
      },
      "outputs": [
        {
          "output_type": "stream",
          "name": "stdout",
          "text": [
            "공이 떨어지기까지 걸린 시간 (초)을 입력하세요 (예: 2): 2\n",
            "수평 거리 (m)를 입력하세요 (예: 20): 20\n",
            "\n",
            "[결과]\n",
            "a) 공의 처음속도 크기: 10.00 m/s\n",
            "b) 건물 높이: -19.62 m\n",
            "c) 충돌 순간 속도 크기: 22.02 m/s\n",
            "   충돌 순간 속도 방향 (수평선과 이루는 각도): -62.99도\n"
          ]
        }
      ],
      "source": [
        "import math\n",
        "\n",
        "t = float(input(\"공이 떨어지기까지 걸린 시간 (초)을 입력하세요 (예: 2): \"))\n",
        "\n",
        "x = float(input(\"수평 거리 (m)를 입력하세요 (예: 20): \"))\n",
        "\n",
        "g = -9.81  # m/s^2\n",
        "\n",
        "v0 = x / t\n",
        "\n",
        "y = (g * t**2)/2\n",
        "\n",
        "vx = v0\n",
        "vy = g * t\n",
        "\n",
        "v = math.sqrt(vx*vx+vy*vy)\n",
        "\n",
        "\n",
        "theta_rad = math.atan(vy/vx)\n",
        "\n",
        "theta_deg =math.degrees(theta_rad)\n",
        "\n",
        "\n",
        "print(f\"\\n[결과]\")\n",
        "\n",
        "print(f\"a) 공의 처음속도 크기: {v0:.2f} m/s\")\n",
        "\n",
        "print(f\"b) 건물 높이: {y:.2f} m\")\n",
        "\n",
        "print(f\"c) 충돌 순간 속도 크기: {v:.2f} m/s\")\n",
        "\n",
        "print(f\"   충돌 순간 속도 방향 (수평선과 이루는 각도): {theta_deg:.2f}도\")"
      ]
    }
  ]
}
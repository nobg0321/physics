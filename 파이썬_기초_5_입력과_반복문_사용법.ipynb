{
  "nbformat": 4,
  "nbformat_minor": 0,
  "metadata": {
    "colab": {
      "provenance": [],
      "authorship_tag": "ABX9TyOFbz7ZBDpXMCJAFaY2SSPC",
      "include_colab_link": true
    },
    "kernelspec": {
      "name": "python3",
      "display_name": "Python 3"
    },
    "language_info": {
      "name": "python"
    }
  },
  "cells": [
    {
      "cell_type": "markdown",
      "metadata": {
        "id": "view-in-github",
        "colab_type": "text"
      },
      "source": [
        "<a href=\"https://colab.research.google.com/github/nobg0321/physics/blob/20250411/%ED%8C%8C%EC%9D%B4%EC%8D%AC_%EA%B8%B0%EC%B4%88_5_%EC%9E%85%EB%A0%A5%EA%B3%BC_%EB%B0%98%EB%B3%B5%EB%AC%B8_%EC%82%AC%EC%9A%A9%EB%B2%95.ipynb\" target=\"_parent\"><img src=\"https://colab.research.google.com/assets/colab-badge.svg\" alt=\"Open In Colab\"/></a>"
      ]
    },
    {
      "cell_type": "code",
      "execution_count": 5,
      "metadata": {
        "colab": {
          "base_uri": "https://localhost:8080/"
        },
        "id": "Z9hUjWJITjn2",
        "outputId": "db703d9a-520e-4629-e15c-9c922252c398"
      },
      "outputs": [
        {
          "output_type": "stream",
          "name": "stdout",
          "text": [
            "How old are you : 20\n",
            "20 years old\n"
          ]
        }
      ],
      "source": [
        "str = input(\"How old are you : \")\n",
        "print(str,'years old', sep=' ')"
      ]
    },
    {
      "cell_type": "code",
      "source": [
        "x = int(input('number : '))\n",
        "print(x)"
      ],
      "metadata": {
        "colab": {
          "base_uri": "https://localhost:8080/"
        },
        "id": "flRtI71VWPTv",
        "outputId": "04086440-8311-4850-f139-566120e3c1e9"
      },
      "execution_count": 8,
      "outputs": [
        {
          "output_type": "stream",
          "name": "stdout",
          "text": [
            "number : 55\n",
            "55\n"
          ]
        }
      ]
    },
    {
      "cell_type": "code",
      "source": [
        "x = float(input('number : '))\n",
        "print(x)"
      ],
      "metadata": {
        "colab": {
          "base_uri": "https://localhost:8080/"
        },
        "id": "IriQqMAJWg2u",
        "outputId": "02dde8b1-2a04-4095-863b-05f3a0371092"
      },
      "execution_count": 10,
      "outputs": [
        {
          "output_type": "stream",
          "name": "stdout",
          "text": [
            "number : 1.2\n",
            "1.2\n"
          ]
        }
      ]
    },
    {
      "cell_type": "code",
      "source": [
        "year = input(\"This year : \")\n",
        "year = eval(year)\n",
        "year = year + 1\n",
        "print(\"Next year : \", year)"
      ],
      "metadata": {
        "colab": {
          "base_uri": "https://localhost:8080/"
        },
        "id": "d2ZSLdIBWpOk",
        "outputId": "9ca8979d-0dcd-488e-d465-cde4b9ff2a86"
      },
      "execution_count": 12,
      "outputs": [
        {
          "output_type": "stream",
          "name": "stdout",
          "text": [
            "This year : 2025\n",
            "Next year :  2026\n"
          ]
        }
      ]
    },
    {
      "cell_type": "code",
      "source": [
        "i = 0\n",
        "result = 0\n",
        "while i < 5 :\n",
        "  print(f'{i}번째 ', end=\" \")\n",
        "  a = input(\"성적 입력 : \")\n",
        "  result += int(a)\n",
        "  i += 1\n",
        "\n",
        "print(f'합 : {result}')\n",
        "print(f'평균 : {result / 5}')"
      ],
      "metadata": {
        "colab": {
          "base_uri": "https://localhost:8080/"
        },
        "id": "VIBo_-wIXb2K",
        "outputId": "c07cea1d-f9d7-4021-dcaf-d5446306c1e6"
      },
      "execution_count": 21,
      "outputs": [
        {
          "output_type": "stream",
          "name": "stdout",
          "text": [
            "0번째  성적 입력 : 10\n",
            "1번째  성적 입력 : 20\n",
            "2번째  성적 입력 : 30\n",
            "3번째  성적 입력 : 40\n",
            "4번째  성적 입력 : 50\n",
            "합 : 150\n",
            "평균 : 30.0\n"
          ]
        }
      ]
    },
    {
      "cell_type": "code",
      "source": [
        "test_list = ['one', 'two', 'three']\n",
        "for i in test_list :\n",
        "  print(i)"
      ],
      "metadata": {
        "colab": {
          "base_uri": "https://localhost:8080/"
        },
        "id": "OSyoJXr8bsOx",
        "outputId": "02c10194-46ee-4375-f685-75fcae75c392"
      },
      "execution_count": 23,
      "outputs": [
        {
          "output_type": "stream",
          "name": "stdout",
          "text": [
            "one\n",
            "two\n",
            "three\n"
          ]
        }
      ]
    },
    {
      "cell_type": "code",
      "source": [
        "for i in range(1, 10) :\n",
        "  print(i)"
      ],
      "metadata": {
        "colab": {
          "base_uri": "https://localhost:8080/"
        },
        "id": "OfTGwGp3cThD",
        "outputId": "a80c8933-0e80-4ce8-f8bd-01296c333a46"
      },
      "execution_count": 24,
      "outputs": [
        {
          "output_type": "stream",
          "name": "stdout",
          "text": [
            "1\n",
            "2\n",
            "3\n",
            "4\n",
            "5\n",
            "6\n",
            "7\n",
            "8\n",
            "9\n"
          ]
        }
      ]
    },
    {
      "cell_type": "code",
      "source": [
        "result = 0\n",
        "for a in range(1, 101) :\n",
        "  result = result + a\n",
        "  print(f\"(a) {result}\")\n",
        "\n",
        "print(result)"
      ],
      "metadata": {
        "colab": {
          "base_uri": "https://localhost:8080/"
        },
        "id": "V6bNC38Rck6E",
        "outputId": "209df232-4993-46f1-967b-174234081f6b"
      },
      "execution_count": 27,
      "outputs": [
        {
          "output_type": "stream",
          "name": "stdout",
          "text": [
            "(a) 1\n",
            "(a) 3\n",
            "(a) 6\n",
            "(a) 10\n",
            "(a) 15\n",
            "(a) 21\n",
            "(a) 28\n",
            "(a) 36\n",
            "(a) 45\n",
            "(a) 55\n",
            "(a) 66\n",
            "(a) 78\n",
            "(a) 91\n",
            "(a) 105\n",
            "(a) 120\n",
            "(a) 136\n",
            "(a) 153\n",
            "(a) 171\n",
            "(a) 190\n",
            "(a) 210\n",
            "(a) 231\n",
            "(a) 253\n",
            "(a) 276\n",
            "(a) 300\n",
            "(a) 325\n",
            "(a) 351\n",
            "(a) 378\n",
            "(a) 406\n",
            "(a) 435\n",
            "(a) 465\n",
            "(a) 496\n",
            "(a) 528\n",
            "(a) 561\n",
            "(a) 595\n",
            "(a) 630\n",
            "(a) 666\n",
            "(a) 703\n",
            "(a) 741\n",
            "(a) 780\n",
            "(a) 820\n",
            "(a) 861\n",
            "(a) 903\n",
            "(a) 946\n",
            "(a) 990\n",
            "(a) 1035\n",
            "(a) 1081\n",
            "(a) 1128\n",
            "(a) 1176\n",
            "(a) 1225\n",
            "(a) 1275\n",
            "(a) 1326\n",
            "(a) 1378\n",
            "(a) 1431\n",
            "(a) 1485\n",
            "(a) 1540\n",
            "(a) 1596\n",
            "(a) 1653\n",
            "(a) 1711\n",
            "(a) 1770\n",
            "(a) 1830\n",
            "(a) 1891\n",
            "(a) 1953\n",
            "(a) 2016\n",
            "(a) 2080\n",
            "(a) 2145\n",
            "(a) 2211\n",
            "(a) 2278\n",
            "(a) 2346\n",
            "(a) 2415\n",
            "(a) 2485\n",
            "(a) 2556\n",
            "(a) 2628\n",
            "(a) 2701\n",
            "(a) 2775\n",
            "(a) 2850\n",
            "(a) 2926\n",
            "(a) 3003\n",
            "(a) 3081\n",
            "(a) 3160\n",
            "(a) 3240\n",
            "(a) 3321\n",
            "(a) 3403\n",
            "(a) 3486\n",
            "(a) 3570\n",
            "(a) 3655\n",
            "(a) 3741\n",
            "(a) 3828\n",
            "(a) 3916\n",
            "(a) 4005\n",
            "(a) 4095\n",
            "(a) 4186\n",
            "(a) 4278\n",
            "(a) 4371\n",
            "(a) 4465\n",
            "(a) 4560\n",
            "(a) 4656\n",
            "(a) 4753\n",
            "(a) 4851\n",
            "(a) 4950\n",
            "(a) 5050\n",
            "5050\n"
          ]
        }
      ]
    },
    {
      "cell_type": "code",
      "source": [
        "result = 0\n",
        "for a in range(1,101):\n",
        "  result = result + a\n",
        "  print(f'{a} : sum = {result}')\n",
        "  if result > 100:\n",
        "    break\n",
        "\n",
        "print(result)"
      ],
      "metadata": {
        "colab": {
          "base_uri": "https://localhost:8080/"
        },
        "id": "5UjvMuXndMHe",
        "outputId": "a6ee7772-a37d-4070-d8da-978db502f265"
      },
      "execution_count": 32,
      "outputs": [
        {
          "output_type": "stream",
          "name": "stdout",
          "text": [
            "1 : sum = 1\n",
            "2 : sum = 3\n",
            "3 : sum = 6\n",
            "4 : sum = 10\n",
            "5 : sum = 15\n",
            "6 : sum = 21\n",
            "7 : sum = 28\n",
            "8 : sum = 36\n",
            "9 : sum = 45\n",
            "10 : sum = 55\n",
            "11 : sum = 66\n",
            "12 : sum = 78\n",
            "13 : sum = 91\n",
            "14 : sum = 105\n",
            "105\n"
          ]
        }
      ]
    },
    {
      "cell_type": "code",
      "source": [
        "index = 0\n",
        "s = \"BlockDMask\"\n",
        "for a in s:\n",
        "  print(a, end=' ')\n",
        "  if a == 'k':\n",
        "    break\n",
        "\n",
        "  index = index + 1\n",
        "\n",
        "\n",
        "print(index)"
      ],
      "metadata": {
        "colab": {
          "base_uri": "https://localhost:8080/"
        },
        "id": "05vQxvKXeDms",
        "outputId": "b9403d1d-367e-444d-faae-6be169908531"
      },
      "execution_count": 34,
      "outputs": [
        {
          "output_type": "stream",
          "name": "stdout",
          "text": [
            "B l o c k 4\n"
          ]
        }
      ]
    },
    {
      "cell_type": "code",
      "source": [
        "student = [180, 170, 164, 199, 182, 172, 177]\n",
        "for a in student:\n",
        "  if a <= 170:\n",
        "    print(a)\n",
        "    #continue\n",
        "\n",
        "  #print(a)"
      ],
      "metadata": {
        "colab": {
          "base_uri": "https://localhost:8080/"
        },
        "id": "deYGezO3e0r-",
        "outputId": "7916488d-b70e-493a-95c1-e9d198694ef2"
      },
      "execution_count": 35,
      "outputs": [
        {
          "output_type": "stream",
          "name": "stdout",
          "text": [
            "170\n",
            "164\n"
          ]
        }
      ]
    },
    {
      "cell_type": "code",
      "source": [
        "result = 0\n",
        "for a in range(1,101):\n",
        "  if a % 2 == 1:\n",
        "    result = result + a\n",
        "\n",
        "print(result)"
      ],
      "metadata": {
        "colab": {
          "base_uri": "https://localhost:8080/"
        },
        "id": "FBxxCOjofbab",
        "outputId": "868ce73d-ed99-4ebb-89f9-f0d867bf914a"
      },
      "execution_count": 36,
      "outputs": [
        {
          "output_type": "stream",
          "name": "stdout",
          "text": [
            "2500\n"
          ]
        }
      ]
    },
    {
      "cell_type": "code",
      "source": [
        "result = 0\n",
        "for a in range(1,101):\n",
        "  if a % 2 == 0:\n",
        "\n",
        "    continue\n",
        "  result = result + a\n",
        "\n",
        "print(result)"
      ],
      "metadata": {
        "colab": {
          "base_uri": "https://localhost:8080/"
        },
        "id": "EOBJQBKlgDRD",
        "outputId": "747cfcc7-ebf0-4de5-d33e-e1c1cd04fac5"
      },
      "execution_count": 37,
      "outputs": [
        {
          "output_type": "stream",
          "name": "stdout",
          "text": [
            "2500\n"
          ]
        }
      ]
    },
    {
      "cell_type": "code",
      "source": [
        "l = ['Alice', 'Bob', 'Charlie']\n",
        "\n",
        "for name in l:\n",
        "  if name == 'Bob':\n",
        "    print(\"Break!\")\n",
        "    break\n",
        "  print(name)\n",
        "else:\n",
        "  print(\"!!Finish\")"
      ],
      "metadata": {
        "colab": {
          "base_uri": "https://localhost:8080/"
        },
        "id": "eoqA9GPTgY-f",
        "outputId": "b5e7855e-9fe7-485a-87ae-b05d1d3d352b"
      },
      "execution_count": 39,
      "outputs": [
        {
          "output_type": "stream",
          "name": "stdout",
          "text": [
            "Alice\n",
            "Break!\n"
          ]
        }
      ]
    },
    {
      "cell_type": "code",
      "source": [
        "sr = ['father', 'mother', 'brother']\n",
        "cnt = 0\n",
        "for s in sr:\n",
        "  print(s)\n",
        "  for c in s:\n",
        "    print(c, end= ' ')\n",
        "    if c == 'r':\n",
        "      print(' ')\n",
        "      cnt += 1\n",
        "print(cnt)"
      ],
      "metadata": {
        "colab": {
          "base_uri": "https://localhost:8080/"
        },
        "id": "GCuVEZlFhEfh",
        "outputId": "fb9039e6-7239-47da-e28c-36ab98edaedf"
      },
      "execution_count": 41,
      "outputs": [
        {
          "output_type": "stream",
          "name": "stdout",
          "text": [
            "father\n",
            "f a t h e r  \n",
            "mother\n",
            "m o t h e r  \n",
            "brother\n",
            "b r  \n",
            "o t h e r  \n",
            "4\n"
          ]
        }
      ]
    },
    {
      "cell_type": "code",
      "source": [
        "a = []\n",
        "\n",
        "for i in range(10):\n",
        "  a.append(i)\n",
        "\n",
        "print(a)"
      ],
      "metadata": {
        "colab": {
          "base_uri": "https://localhost:8080/"
        },
        "id": "3P9Gs01ihlRF",
        "outputId": "b5995cd3-430b-4987-f8b7-04fcec93d7d5"
      },
      "execution_count": 44,
      "outputs": [
        {
          "output_type": "stream",
          "name": "stdout",
          "text": [
            "[0, 1, 2, 3, 4, 5, 6, 7, 8, 9]\n"
          ]
        }
      ]
    },
    {
      "cell_type": "code",
      "source": [
        "a =[]\n",
        "\n",
        "for i in range(3):\n",
        "  line = []\n",
        "  for j in range(2):\n",
        "    line.append(j+i)\n",
        "  a.append(line)\n",
        "\n",
        "print(a)"
      ],
      "metadata": {
        "colab": {
          "base_uri": "https://localhost:8080/"
        },
        "id": "cuzghyLQiH_B",
        "outputId": "15cedfd9-ee85-42aa-b5ba-f7cce4a3ce87"
      },
      "execution_count": 46,
      "outputs": [
        {
          "output_type": "stream",
          "name": "stdout",
          "text": [
            "[[0, 1], [1, 2], [2, 3]]\n"
          ]
        }
      ]
    },
    {
      "cell_type": "code",
      "source": [
        "l = ['Alice', 'Bob', 'Charlie']\n",
        "\n",
        "for name in l:\n",
        "  print(name)\n",
        "\n",
        "for i, name in enumerate(l, 42):\n",
        "  print(i, name)"
      ],
      "metadata": {
        "colab": {
          "base_uri": "https://localhost:8080/"
        },
        "id": "biauU1GrigwN",
        "outputId": "e476e796-04ae-4d5c-a64a-bbc573d29029"
      },
      "execution_count": 51,
      "outputs": [
        {
          "output_type": "stream",
          "name": "stdout",
          "text": [
            "Alice\n",
            "Bob\n",
            "Charlie\n",
            "42 Alice\n",
            "43 Bob\n",
            "44 Charlie\n"
          ]
        }
      ]
    }
  ]
}
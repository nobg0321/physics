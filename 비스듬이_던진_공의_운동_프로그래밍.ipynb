{
  "nbformat": 4,
  "nbformat_minor": 0,
  "metadata": {
    "colab": {
      "provenance": [],
      "authorship_tag": "ABX9TyPz638Rr9LlBu0KkQen8xPy",
      "include_colab_link": true
    },
    "kernelspec": {
      "name": "python3",
      "display_name": "Python 3"
    },
    "language_info": {
      "name": "python"
    }
  },
  "cells": [
    {
      "cell_type": "markdown",
      "metadata": {
        "id": "view-in-github",
        "colab_type": "text"
      },
      "source": [
        "<a href=\"https://colab.research.google.com/github/nobg0321/physics/blob/20250415/%EB%B9%84%EC%8A%A4%EB%93%AC%EC%9D%B4_%EB%8D%98%EC%A7%84_%EA%B3%B5%EC%9D%98_%EC%9A%B4%EB%8F%99_%ED%94%84%EB%A1%9C%EA%B7%B8%EB%9E%98%EB%B0%8D.ipynb\" target=\"_parent\"><img src=\"https://colab.research.google.com/assets/colab-badge.svg\" alt=\"Open In Colab\"/></a>"
      ]
    },
    {
      "cell_type": "code",
      "execution_count": 1,
      "metadata": {
        "colab": {
          "base_uri": "https://localhost:8080/"
        },
        "id": "Ea_IND9Ga_Ko",
        "outputId": "a14e2320-2620-4840-e45b-5be24a2b8ac2"
      },
      "outputs": [
        {
          "output_type": "stream",
          "name": "stdout",
          "text": [
            "초기 속도 V0 (m/s): 100\n",
            "발사 각도 (deg): 37\n",
            "초기 높이 y0 (m): 140\n",
            "\n",
            "--- 초기 속도 성분 계산 ---\n",
            "Vx0 = V0 * cos(θ) = 100.00 * cos(37.00°) = 79.86 m/s\n",
            "Vy0 = V0 * sin(θ) = 100.00 * sin(37.00°) = 60.18 m/s\n",
            "\n",
            "--- (a) 낙하 시간 계산 ---\n",
            "공식: 0 = y0 + Vy0*t - 0.5*g*t^2 → 이차방정식 at² + bt + c = 0\n",
            "a = -4.90, b = 60.18, c = 140.00\n",
            "판별식 D = b² - 4ac = 6365.81\n",
            "해 t1 = -2.00, t2 = 14.28 → 사용: t = 14.28 초\n",
            "\n",
            "--- (b) 수평 거리 계산 ---\n",
            "x = Vx0 * t = 79.86 * 14.28 = 1140.64 m\n",
            "\n",
            "--- (c) 최종 속도 성분 ---\n",
            "Vx = 79.86 m/s (변하지 않음)\n",
            "Vy = Vy0 - g*t = 60.18 - 9.80 * 14.28 = -79.79 m/s\n",
            "\n",
            "--- (d) 최종 속도 크기 ---\n",
            "V = sqrt(Vx² + Vy²) = sqrt(79.86² + -79.79²) = 112.89 m/s\n",
            "\n",
            "--- (e) 속도 벡터가 수평과 이루는 각도 ---\n",
            "θ = atan2(Vy, Vx) = atan2(-79.79, 79.86) = -44.97 도\n"
          ]
        }
      ],
      "source": [
        "import math\n",
        "\n",
        "# 중력가속도\n",
        "G = 9.8\n",
        "\n",
        "# 사용자 입력\n",
        "V0 = float(input(\"초기 속도 V0 (m/s): \"))\n",
        "angle_deg = float(input(\"발사 각도 (deg): \"))\n",
        "y0 = float(input(\"초기 높이 y0 (m): \"))\n",
        "\n",
        "# 각도 라디안으로 변환\n",
        "angle_rad = math.radians(angle_deg)\n",
        "\n",
        "# 초기 속도 성분\n",
        "Vx0 = V0 * math.cos(angle_rad)\n",
        "Vy0 = V0 * math.sin(angle_rad)\n",
        "\n",
        "print(\"\\n--- 초기 속도 성분 계산 ---\")\n",
        "print(f\"Vx0 = V0 * cos(θ) = {V0:.2f} * cos({angle_deg:.2f}°) = {Vx0:.2f} m/s\")\n",
        "print(f\"Vy0 = V0 * sin(θ) = {V0:.2f} * sin({angle_deg:.2f}°) = {Vy0:.2f} m/s\")\n",
        "\n",
        "# (a) 낙하 시간 계산 (이차방정식: y = y0 + Vy0*t - 0.5*g*t^2 = 0)\n",
        "a = -0.5 * G\n",
        "b = Vy0\n",
        "c = y0\n",
        "discriminant = b ** 2 - 4 * a * c\n",
        "\n",
        "print(\"\\n--- (a) 낙하 시간 계산 ---\")\n",
        "print(\"공식: 0 = y0 + Vy0*t - 0.5*g*t^2 → 이차방정식 at² + bt + c = 0\")\n",
        "print(f\"a = {a:.2f}, b = {b:.2f}, c = {c:.2f}\")\n",
        "print(f\"판별식 D = b² - 4ac = {discriminant:.2f}\")\n",
        "\n",
        "if discriminant >= 0:\n",
        "    sqrt_d = math.sqrt(discriminant)\n",
        "    t1 = (-b + sqrt_d) / (2 * a)\n",
        "    t2 = (-b - sqrt_d) / (2 * a)\n",
        "    t = t1 if t1 > 0 else t2\n",
        "    print(f\"해 t1 = {t1:.2f}, t2 = {t2:.2f} → 사용: t = {t:.2f} 초\")\n",
        "else:\n",
        "    print(\"❌ 해가 없습니다. (판별식 < 0)\")\n",
        "    exit()\n",
        "\n",
        "# (b) 수평 거리\n",
        "x = Vx0 * t\n",
        "print(\"\\n--- (b) 수평 거리 계산 ---\")\n",
        "print(f\"x = Vx0 * t = {Vx0:.2f} * {t:.2f} = {x:.2f} m\")\n",
        "\n",
        "# (c) 최종 속도 성분\n",
        "Vx_final = Vx0\n",
        "Vy_final = Vy0 - G * t\n",
        "print(\"\\n--- (c) 최종 속도 성분 ---\")\n",
        "print(f\"Vx = {Vx_final:.2f} m/s (변하지 않음)\")\n",
        "print(f\"Vy = Vy0 - g*t = {Vy0:.2f} - {G:.2f} * {t:.2f} = {Vy_final:.2f} m/s\")\n",
        "\n",
        "# (d) 속도 크기\n",
        "V_final = math.sqrt(Vx_final ** 2 + Vy_final ** 2)\n",
        "print(\"\\n--- (d) 최종 속도 크기 ---\")\n",
        "print(f\"V = sqrt(Vx² + Vy²) = sqrt({Vx_final:.2f}² + {Vy_final:.2f}²) = {V_final:.2f} m/s\")\n",
        "\n",
        "# (e) 수평선과 이루는 각도\n",
        "angle_final_rad = math.atan2(Vy_final, Vx_final)\n",
        "angle_final_deg = math.degrees(angle_final_rad)\n",
        "print(\"\\n--- (e) 속도 벡터가 수평과 이루는 각도 ---\")\n",
        "print(f\"θ = atan2(Vy, Vx) = atan2({Vy_final:.2f}, {Vx_final:.2f}) = {angle_final_deg:.2f} 도\")"
      ]
    }
  ]
}
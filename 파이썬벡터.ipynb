{
  "nbformat": 4,
  "nbformat_minor": 0,
  "metadata": {
    "colab": {
      "provenance": [],
      "authorship_tag": "ABX9TyN5PW14Eu2AhtXtq4INQj+E",
      "include_colab_link": true
    },
    "kernelspec": {
      "name": "python3",
      "display_name": "Python 3"
    },
    "language_info": {
      "name": "python"
    }
  },
  "cells": [
    {
      "cell_type": "markdown",
      "metadata": {
        "id": "view-in-github",
        "colab_type": "text"
      },
      "source": [
        "<a href=\"https://colab.research.google.com/github/nobg0321/physics/blob/20250331/%ED%8C%8C%EC%9D%B4%EC%8D%AC%EB%B2%A1%ED%84%B0.ipynb\" target=\"_parent\"><img src=\"https://colab.research.google.com/assets/colab-badge.svg\" alt=\"Open In Colab\"/></a>"
      ]
    },
    {
      "cell_type": "code",
      "execution_count": null,
      "metadata": {
        "colab": {
          "base_uri": "https://localhost:8080/"
        },
        "id": "3OAY6if_qG8A",
        "outputId": "ec186449-0202-43b4-a62e-0f505c539de3"
      },
      "outputs": [
        {
          "output_type": "stream",
          "name": "stdout",
          "text": [
            "첫 번째 벡터의 x 성분을 입력하세요: 5\n",
            "첫 번째 벡터의 y 성분을 입력하세요: 19\n",
            "두 번째 벡터의 x 성분을 입력하세요: 48\n",
            "두 번째 벡터의 y 성분을 입력하세요: 62\n",
            "\n",
            "벡터 1: 5.0 i + 19.0 j\n",
            "벡터 2: 48.0 i + 62.0 j\n",
            "\n",
            "벡터의 합: 53.0 i + 81.0 j\n",
            "벡터의 내적: 1418.0\n",
            "벡터의 외적: -602.0\n"
          ]
        }
      ],
      "source": [
        "x1 = float(input(\"첫 번째 벡터의 x 성분을 입력하세요: \"))\n",
        "y1 = float(input(\"첫 번째 벡터의 y 성분을 입력하세요: \"))\n",
        "\n",
        "x2 = float(input(\"두 번째 벡터의 x 성분을 입력하세요: \"))\n",
        "y2 = float(input(\"두 번째 벡터의 y 성분을 입력하세요: \"))\n",
        "\n",
        "sum_x = x1 + x2\n",
        "sum_y = y1 + y2\n",
        "\n",
        "dot_product = x1 * x2 + y1 * y2\n",
        "\n",
        "cross_product = x1 * y2 - y1 * x2\n",
        "\n",
        "print(\"\\n벡터 1:\", x1, \"i +\", y1, \"j\")\n",
        "print(\"벡터 2:\", x2, \"i +\", y2, \"j\")\n",
        "\n",
        "print(\"\\n벡터의 합:\", sum_x, \"i +\", sum_y, \"j\")\n",
        "print(\"벡터의 내적:\", dot_product)\n",
        "print(\"벡터의 외적:\", cross_product)\n"
      ]
    },
    {
      "cell_type": "markdown",
      "source": [],
      "metadata": {
        "id": "wLw-VxNTX4Z_"
      }
    },
    {
      "cell_type": "code",
      "source": [
        "x1 = float(input(\"첫 번째 벡터의 x 성분을 입력하세요: \"))\n",
        "y1 = float(input(\"첫 번째 벡터의 y 성분을 입력하세요: \"))\n",
        "z1 = float(input(\"첫 번째 벡터의 z 성분을 입력하세요: \"))\n",
        "\n",
        "x2 = float(input(\"두 번째 벡터의 x 성분을 입력하세요: \"))\n",
        "y2 = float(input(\"두 번째 벡터의 y 성분을 입력하세요: \"))\n",
        "z2 = float(input(\"두 번째 벡터의 z 성분을 입력하세요: \"))\n",
        "\n",
        "sum_x = x1 + x2\n",
        "sum_y = y1 + y2\n",
        "sum_z = z1 + z2\n",
        "\n",
        "dot_product = x1 * x2 + y1 * y2 + z1 * z2\n",
        "\n",
        "cross_product_x = y1 * z2 - z1 * y2\n",
        "cross_product_y = z1 * x2 - x1 * z2\n",
        "cross_product_z = x1 * y2 - y1 * x2\n",
        "\n",
        "print(\"\\n벡터 1:\", x1, \"i +\", y1, \"j +\", z1, \"k\")\n",
        "print(\"벡터 2:\", x2, \"i +\", y2, \"j +\", z2, \"k\")\n",
        "\n",
        "print(\"\\n벡터의 합:\", sum_x, \"i +\", sum_y, \"j +\", sum_z, \"k\")\n",
        "print(\"벡터의 내적:\", dot_product)\n",
        "print(\"벡터의 외적:\", cross_product_x, \"i +\", cross_product_y, \"j +\", cross_product_z, \"k\")"
      ],
      "metadata": {
        "colab": {
          "base_uri": "https://localhost:8080/"
        },
        "id": "0TsOg6QhXUiy",
        "outputId": "a3531e0f-dd95-457e-c19f-7df54e3ba8ed"
      },
      "execution_count": null,
      "outputs": [
        {
          "output_type": "stream",
          "name": "stdout",
          "text": [
            "첫 번째 벡터의 x 성분을 입력하세요: 456\n",
            "첫 번째 벡터의 y 성분을 입력하세요: 258\n",
            "첫 번째 벡터의 z 성분을 입력하세요: 65\n",
            "두 번째 벡터의 x 성분을 입력하세요: 23\n",
            "두 번째 벡터의 y 성분을 입력하세요: 22954\n",
            "두 번째 벡터의 z 성분을 입력하세요: 4832\n",
            "\n",
            "벡터 1: 456.0 i + 258.0 j + 65.0 k\n",
            "벡터 2: 23.0 i + 22954.0 j + 4832.0 k\n",
            "\n",
            "벡터의 합: 479.0 i + 23212.0 j + 4897.0 k\n",
            "벡터의 내적: 6246700.0\n",
            "벡터의 외적: -245354.0 i + -2201897.0 j + 10461090.0 k\n"
          ]
        }
      ]
    }
  ]
}